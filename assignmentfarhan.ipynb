{
 "cells": [
  {
   "cell_type": "code",
   "execution_count": 1,
   "metadata": {},
   "outputs": [
    {
     "name": "stdout",
     "output_type": "stream",
     "text": [
      "Minahil\n",
      "Khan\n",
      "3\n",
      "Karachi\n",
      "[{'first_name:': 'Minahil'}, {'last_name:': 'Khan'}, {'age:': '3'}, {'city:': 'Karachi'}, {'qualification': 'matric'}]\n",
      "[{'first_name:': 'Minahil'}, {'last_name:': 'Khan'}, {'age:': '3'}, {'city:': 'Karachi'}]\n",
      "{'aman': 'salman', 3: 'd', 'y': 3, 't': 2}\n"
     ]
    }
   ],
   "source": [
    "person =[\n",
    "    {\n",
    "    \"first_name:\" : \"Minahil\",},\n",
    "    {\n",
    "        \"last_name:\" : \"Khan\",  \n",
    "    },\n",
    "    {\n",
    "        \"age:\" : \"3\",\n",
    "    },\n",
    "{\n",
    "    \"city:\" : \"Karachi\",\n",
    "    }\n",
    "]\n",
    "print(person[0][\"first_name:\"])\n",
    "print(person[1][\"last_name:\"])\n",
    "print(person[2][\"age:\"])\n",
    "print(person[3][\"city:\"])\n",
    "\n",
    "new_dist = {\n",
    "    \"qualification\" : \"matric\",\n",
    "}\n",
    "\n",
    "## added qualification\n",
    "\n",
    "person.append(new_dist)\n",
    "print(person)\n",
    "\n",
    "##removed added qualification\n",
    "\n",
    "person.remove(new_dist)\n",
    "print(person)\n",
    "\n",
    "## updated list\n",
    "dist1 = {\"aman\":\"salman\",3:\"d\"}\n",
    "list1 = [\"kamran\",\"d\"]\n",
    "dist1.update(y=3,t=2)\n",
    "print(dist1)"
   ]
  },
  {
   "cell_type": "code",
   "execution_count": 2,
   "metadata": {},
   "outputs": [
    {
     "name": "stdout",
     "output_type": "stream",
     "text": [
      "\n",
      "Karachi is in Pakistan.\n",
      "  It has a population of about 14916456.\n",
      "  It has beautiful Quaid Mazar\n",
      "\n",
      "Mutan is in Pakistan.\n",
      "  It has a population of about 1871843.\n",
      "  It has beautiful Rukh-E-Alam\n",
      "\n",
      "Lahore is in Pakistan.\n",
      "  It has a population of about 11126285.\n",
      "  It has beautiful Badshahi Mosque\n"
     ]
    }
   ],
   "source": [
    "cities = {\n",
    "    'karachi': {\n",
    "        'country': 'pakistan',\n",
    "        'population': 14916456,\n",
    "        'fact': 'quaid mazar',\n",
    "        },\n",
    "    'mutan': {\n",
    "        'country': 'pakistan',\n",
    "        'population': 1871843,\n",
    "        'fact': 'rukh-e-alam',\n",
    "        },\n",
    "    'lahore': {\n",
    "        'country': 'pakistan',\n",
    "        'population': 11126285,\n",
    "        'fact': 'badshahi mosque',\n",
    "        }\n",
    "    }\n",
    "\n",
    "for city, city_info in cities.items():\n",
    "    country = city_info['country'].title()\n",
    "    population = city_info['population']\n",
    "    fact = city_info['fact'].title()\n",
    "\n",
    "    print(\"\\n\" + city.title() + \" is in \" + country + \".\")\n",
    "    print(\"  It has a population of about \" + str(population) + \".\")\n",
    "    print(\"  It has beautiful \" + fact )\n",
    "  "
   ]
  },
  {
   "cell_type": "code",
   "execution_count": 3,
   "metadata": {},
   "outputs": [
    {
     "name": "stdout",
     "output_type": "stream",
     "text": [
      "How old are you?\n",
      "Enter 'bye' when you are finished. 2\n",
      "  You get in free!\n",
      "How old are you?\n",
      "Enter 'bye' when you are finished. 2\n",
      "  You get in free!\n",
      "How old are you?\n",
      "Enter 'bye' when you are finished. bye\n"
     ]
    }
   ],
   "source": [
    "message = \"How old are you?\"\n",
    "message += \"\\nEnter 'bye' when you are finished. \"\n",
    "\n",
    "while True:\n",
    "    age = input(message)\n",
    "    if age == 'bye':\n",
    "        break\n",
    "    age = int(age)\n",
    "\n",
    "    if age < 3:\n",
    "        print(\"  You get in free!\")\n",
    "    elif age < 13:\n",
    "        print(\"  Your ticket is $10.\")\n",
    "    else:\n",
    "        print(\"  Your ticket is $15.\")"
   ]
  },
  {
   "cell_type": "code",
   "execution_count": 7,
   "metadata": {},
   "outputs": [
    {
     "name": "stdout",
     "output_type": "stream",
     "text": [
      "Habbit of Effective People is one of my favorite books.\n"
     ]
    }
   ],
   "source": [
    "def favorite_book(title):\n",
    "#### Display a message about someone's favorite book.\n",
    "    print(title + \" is one of my favorite books.\")\n",
    "\n",
    "favorite_book('Habbit of Effective People')"
   ]
  },
  {
   "cell_type": "code",
   "execution_count": null,
   "metadata": {},
   "outputs": [
    {
     "name": "stdout",
     "output_type": "stream",
     "text": [
      "Guess a number between 1 and 100\n",
      "3\n",
      "Try Higher\n",
      "Guess a number between 1 and 100\n",
      "8\n",
      "Try Higher\n",
      "Guess a number between 1 and 100\n"
     ]
    }
   ],
   "source": [
    "import random\n",
    "num = random.randint(1, 100)\n",
    "while True:\n",
    "    print('Guess a number between 1 and 100')\n",
    "    guess = input()\n",
    "    i = int(guess)\n",
    "    if i == num:\n",
    "        print('You won!!!')\n",
    "        break\n",
    "    elif i < num:\n",
    "               print('Try Higher')\n",
    "    elif i > num:\n",
    "               print('Try Lower')\n",
    "#any recommendations for the game end\n",
    "print('if you gussed less than 3 times you won')\n",
    "import random\n",
    "target_num, guess_num = random.randint(1, 10), 0\n",
    "while target_num != guess_num:\n",
    "    guess_num = int(input('Guess a number between 1 and 10 until you get it right : '))\n",
    "print('Well guessed!')"
   ]
  },
  {
   "cell_type": "code",
   "execution_count": null,
   "metadata": {},
   "outputs": [],
   "source": []
  }
 ],
 "metadata": {
  "kernelspec": {
   "display_name": "Python 3",
   "language": "python",
   "name": "python3"
  },
  "language_info": {
   "codemirror_mode": {
    "name": "ipython",
    "version": 3
   },
   "file_extension": ".py",
   "mimetype": "text/x-python",
   "name": "python",
   "nbconvert_exporter": "python",
   "pygments_lexer": "ipython3",
   "version": "3.7.4"
  }
 },
 "nbformat": 4,
 "nbformat_minor": 2
}
