{
 "cells": [
  {
   "cell_type": "code",
   "execution_count": 2,
   "metadata": {},
   "outputs": [
    {
     "name": "stdout",
     "output_type": "stream",
     "text": [
      "Enter First Value5\n",
      "Enter Second Value2\n",
      "Enter Operator**\n",
      "25 answer\n"
     ]
    }
   ],
   "source": [
    "val1 = input(\"Enter First Value\")\n",
    "val2 = input(\"Enter Second Value\")\n",
    "operator = input(\"Enter Operator\")\n",
    "val1 = int(val1)\n",
    "val2 = int(val2)\n",
    "if operator == \"+\":\n",
    "    val = val1 + val2\n",
    "    print(val,\"answer\")\n",
    "elif operator == \"-\":\n",
    "    val = val1 - val2\n",
    "    print(val,\"answer\")\n",
    "elif operator == \"*\":\n",
    "    val = val1 * val2\n",
    "    print(val,\"answer\")\n",
    "elif operator == \"/\":\n",
    "    val = val1 / val2\n",
    "    print(val,\"answer\")\n",
    "elif operator == \"**\":\n",
    "    val = val1 ** val2\n",
    "    print(val,\"answer\")\n",
    "\n",
    "else:\n",
    "    print(\"Enter Correct Operator\")"
   ]
  },
  {
   "cell_type": "code",
   "execution_count": 3,
   "metadata": {},
   "outputs": [
    {
     "name": "stdout",
     "output_type": "stream",
     "text": [
      "3 is a numeric value in list\n"
     ]
    }
   ],
   "source": [
    "list = [\"ali\", \"faisal\", 3, \"arsal\"]\n",
    "for i in list:\n",
    "    if type(i) == int:\n",
    "        print(i,\"is a numeric value in list\")"
   ]
  },
  {
   "cell_type": "code",
   "execution_count": 4,
   "metadata": {},
   "outputs": [
    {
     "name": "stdout",
     "output_type": "stream",
     "text": [
      "{'first name': 'ahsan', 'last name': 'khan', 'adress': 'karachi'}\n"
     ]
    }
   ],
   "source": [
    "employee_record = {\n",
    "    \"first name\": \"ahsan\",\n",
    "    \"last name\": \"khan\"}\n",
    "employee_record[\"adress\"] = \"karachi\"\n",
    "print(employee_record)\n"
   ]
  },
  {
   "cell_type": "code",
   "execution_count": 6,
   "metadata": {},
   "outputs": [
    {
     "name": "stdout",
     "output_type": "stream",
     "text": [
      "Sum : 90\n"
     ]
    }
   ],
   "source": [
    "def returnSum(t): \n",
    "      \n",
    "     sum = 0\n",
    "     for i in dict.values(): \n",
    "           sum = sum + i \n",
    "       \n",
    "     return sum\n",
    "\n",
    "t = {'h': 10, 'f':50, 'j':30} \n",
    "print(\"Sum :\", returnSum(t))"
   ]
  },
  {
   "cell_type": "code",
   "execution_count": 9,
   "metadata": {},
   "outputs": [
    {
     "name": "stdout",
     "output_type": "stream",
     "text": [
      "[10, 30, 40, 60, -20]\n"
     ]
    }
   ],
   "source": [
    "def Repeat(x): \n",
    "    _size = len(x) \n",
    "    repeated = [] \n",
    "    for i in range(_size): \n",
    "        k = i + 1\n",
    "        for j in range(k, _size): \n",
    "            if x[i] == x[j] and x[i] not in repeated: \n",
    "                repeated.append(x[i]) \n",
    "    return repeated \n",
    "  \n",
    "\n",
    "list1 = [10, 10, 30, 40, 20, 30, 40,  \n",
    "         50, 30, 60, 60, -20, -20] \n",
    "print (Repeat(list1))"
   ]
  },
  {
   "cell_type": "code",
   "execution_count": 10,
   "metadata": {},
   "outputs": [
    {
     "name": "stdout",
     "output_type": "stream",
     "text": [
      "Present,  value = 200\n",
      "Not present\n"
     ]
    }
   ],
   "source": [
    "def checkKey(at, key): \n",
    "      \n",
    "    if key in dict.keys(): \n",
    "        print(\"Present, \", end =\" \") \n",
    "        print(\"value =\", at[key]) \n",
    "    else: \n",
    "        print(\"Not present\") \n",
    "  \n",
    "\n",
    "dict = {'a': 100, 'b':200, 'c':300} \n",
    "  \n",
    "key = 'b'\n",
    "checkKey(at, key) \n",
    "  \n",
    "key = 'w'\n",
    "checkKey(at, key)"
   ]
  },
  {
   "cell_type": "code",
   "execution_count": null,
   "metadata": {},
   "outputs": [],
   "source": []
  }
 ],
 "metadata": {
  "kernelspec": {
   "display_name": "Python 3",
   "language": "python",
   "name": "python3"
  },
  "language_info": {
   "codemirror_mode": {
    "name": "ipython",
    "version": 3
   },
   "file_extension": ".py",
   "mimetype": "text/x-python",
   "name": "python",
   "nbconvert_exporter": "python",
   "pygments_lexer": "ipython3",
   "version": "3.7.4"
  }
 },
 "nbformat": 4,
 "nbformat_minor": 2
}
