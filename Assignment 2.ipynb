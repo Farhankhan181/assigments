{
 "cells": [
  {
   "cell_type": "code",
   "execution_count": 3,
   "metadata": {},
   "outputs": [
    {
     "name": "stdout",
     "output_type": "stream",
     "text": [
      "Enter subject mark of English:6\n",
      "Enter subject mark of Mathematics:6\n",
      "Enter subject mark of Physics:66\n",
      "Enter subject mark of Chemistry:6\n",
      "Enter subject mark of Urdu:6\n",
      "90\n"
     ]
    }
   ],
   "source": [
    "Subject_1 = input(\"Enter subject mark of English:\")\n",
    "Subject_2 = input(\"Enter subject mark of Mathematics:\")\n",
    "Subject_3 = input(\"Enter subject mark of Physics:\")\n",
    "Subject_4 = input(\"Enter subject mark of Chemistry:\")\n",
    "Subject_5 = input(\"Enter subject mark of Urdu:\")\n",
    "\n",
    "result = int(Subject_1) + int(Subject_2) + int(Subject_3) + int(Subject_4) + int(Subject_5)\n",
    "print(result)"
   ]
  },
  {
   "cell_type": "code",
   "execution_count": 4,
   "metadata": {},
   "outputs": [
    {
     "name": "stdout",
     "output_type": "stream",
     "text": [
      "5\n"
     ]
    }
   ],
   "source": [
    "subjects =[\"Mathematics\" , \"English\" , \"Urdu\" , \"Chemistry\" , \"Physics\"]\n",
    "print (len(subjects))"
   ]
  },
  {
   "cell_type": "code",
   "execution_count": 7,
   "metadata": {},
   "outputs": [
    {
     "name": "stdout",
     "output_type": "stream",
     "text": [
      "Enter a number3\n",
      "3 is odd\n"
     ]
    }
   ],
   "source": [
    "x= int(input(\"Enter a number\"))\n",
    "if x%2 == 0:\n",
    "    print (x, \"is Even\")\n",
    "else:\n",
    "    print(x,\"is odd\")"
   ]
  },
  {
   "cell_type": "code",
   "execution_count": 10,
   "metadata": {},
   "outputs": [
    {
     "ename": "NameError",
     "evalue": "name 'subject' is not defined",
     "output_type": "error",
     "traceback": [
      "\u001b[1;31m---------------------------------------------------------------------------\u001b[0m",
      "\u001b[1;31mNameError\u001b[0m                                 Traceback (most recent call last)",
      "\u001b[1;32m<ipython-input-10-370a95e0c1b7>\u001b[0m in \u001b[0;36m<module>\u001b[1;34m\u001b[0m\n\u001b[0;32m      1\u001b[0m \u001b[0msubjects\u001b[0m \u001b[1;33m=\u001b[0m\u001b[1;33m[\u001b[0m\u001b[1;34m\"1\"\u001b[0m \u001b[1;33m,\u001b[0m \u001b[1;34m\"2\"\u001b[0m \u001b[1;33m,\u001b[0m \u001b[1;34m\"5\"\u001b[0m \u001b[1;33m,\u001b[0m \u001b[1;34m\"3\"\u001b[0m \u001b[1;33m,\u001b[0m \u001b[1;34m\"4\"\u001b[0m\u001b[1;33m]\u001b[0m\u001b[1;33m\u001b[0m\u001b[1;33m\u001b[0m\u001b[0m\n\u001b[0;32m      2\u001b[0m \u001b[1;33m\u001b[0m\u001b[0m\n\u001b[1;32m----> 3\u001b[1;33m \u001b[0mprint\u001b[0m\u001b[1;33m(\u001b[0m\u001b[0msubject\u001b[0m\u001b[1;33m[\u001b[0m\u001b[1;36m0\u001b[0m\u001b[1;33m+\u001b[0m\u001b[1;36m1\u001b[0m\u001b[1;33m+\u001b[0m\u001b[1;36m2\u001b[0m\u001b[1;33m+\u001b[0m\u001b[1;36m3\u001b[0m\u001b[1;33m+\u001b[0m\u001b[1;36m4\u001b[0m\u001b[1;33m]\u001b[0m\u001b[1;33m)\u001b[0m\u001b[1;33m\u001b[0m\u001b[1;33m\u001b[0m\u001b[0m\n\u001b[0m",
      "\u001b[1;31mNameError\u001b[0m: name 'subject' is not defined"
     ]
    }
   ],
   "source": [
    "subjects =[\"1\" , \"2\" , \"5\" , \"3\" , \"4\"]\n",
    "\n",
    "print(subject[0+1+2+3+4])\n"
   ]
  },
  {
   "cell_type": "code",
   "execution_count": null,
   "metadata": {},
   "outputs": [],
   "source": []
  }
 ],
 "metadata": {
  "kernelspec": {
   "display_name": "Python 3",
   "language": "python",
   "name": "python3"
  },
  "language_info": {
   "codemirror_mode": {
    "name": "ipython",
    "version": 3
   },
   "file_extension": ".py",
   "mimetype": "text/x-python",
   "name": "python",
   "nbconvert_exporter": "python",
   "pygments_lexer": "ipython3",
   "version": "3.7.4"
  }
 },
 "nbformat": 4,
 "nbformat_minor": 2
}
