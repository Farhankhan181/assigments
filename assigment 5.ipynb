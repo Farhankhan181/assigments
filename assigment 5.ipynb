{
 "cells": [
  {
   "cell_type": "code",
   "execution_count": 3,
   "metadata": {},
   "outputs": [
    {
     "name": "stdout",
     "output_type": "stream",
     "text": [
      "Input a number to compute the factiorial : 10\n",
      "3628800\n"
     ]
    }
   ],
   "source": [
    "def factorial(r):\n",
    "    if r == 0:\n",
    "        return 1\n",
    "    else:\n",
    "        return r * factorial(r-1)\n",
    "r=int(input(\"Input a number to compute the factiorial : \"))\n",
    "print(factorial(r))"
   ]
  },
  {
   "cell_type": "code",
   "execution_count": 13,
   "metadata": {},
   "outputs": [
    {
     "name": "stdout",
     "output_type": "stream",
     "text": [
      "Original String :  Come join Us live\n",
      "No. of Upper case characters :  2\n",
      "No. of Lower case Characters :  12\n"
     ]
    }
   ],
   "source": [
    "def string_test(w):\n",
    "    f={\"UPPER_CASE\":0, \"LOWER_CASE\":0}\n",
    "    for a in w:\n",
    "        if a.isupper():\n",
    "           f[\"UPPER_CASE\"]+=1\n",
    "        elif a.islower():\n",
    "           f[\"LOWER_CASE\"]+=1\n",
    "        else:\n",
    "           pass\n",
    "    print (\"Original String : \", w)\n",
    "    print (\"No. of Upper case characters : \", f[\"UPPER_CASE\"])\n",
    "    print (\"No. of Lower case Characters : \", f[\"LOWER_CASE\"])\n",
    "\n",
    "string_test('Come join Us live')"
   ]
  },
  {
   "cell_type": "code",
   "execution_count": 14,
   "metadata": {},
   "outputs": [
    {
     "name": "stdout",
     "output_type": "stream",
     "text": [
      "30 44 88 "
     ]
    }
   ],
   "source": [
    "list = [30, 11, 44, 85, 88, 93] \n",
    "  \n",
    "\n",
    "for num in list: \n",
    "      \n",
    " \n",
    "    if num % 2 == 0: \n",
    "       print(num, end = \" \") "
   ]
  },
  {
   "cell_type": "code",
   "execution_count": 15,
   "metadata": {},
   "outputs": [
    {
     "name": "stdout",
     "output_type": "stream",
     "text": [
      "True\n"
     ]
    }
   ],
   "source": [
    "def isPalindrome(string):\n",
    "    left_pos = 0\n",
    "    right_pos = len(string) - 1\n",
    "    \n",
    "    while right_pos >= left_pos:\n",
    "        if not string[left_pos] == string[right_pos]:\n",
    "            return False\n",
    "        left_pos += 1\n",
    "        right_pos -= 1\n",
    "    return True\n",
    "print(isPalindrome('aza')) "
   ]
  },
  {
   "cell_type": "code",
   "execution_count": 16,
   "metadata": {},
   "outputs": [
    {
     "name": "stdout",
     "output_type": "stream",
     "text": [
      "False\n"
     ]
    }
   ],
   "source": [
    "def test_prime(n):\n",
    "    if (n==1):\n",
    "        return False\n",
    "    elif (n==2):\n",
    "        return True;\n",
    "    else:\n",
    "        for x in range(2,n):\n",
    "            if(n % x==0):\n",
    "                return False\n",
    "        return True             \n",
    "print(test_prime(9))"
   ]
  },
  {
   "cell_type": "code",
   "execution_count": null,
   "metadata": {},
   "outputs": [],
   "source": [
    "grocery_item = dict()\n",
    "grocery_history = []\n",
    "choice = 0\n",
    "stop = True\n",
    "while stop == True:\n",
    "    current_item = dict()\n",
    "    current_item['name'] = str(input('Item name: '))\n",
    "    current_item['quantity'] = int(input('Amount purchased: '))\n",
    "    current_item['cost'] = float(input('Price per item: '))\n",
    "    grocery_history.append(current_item)\n",
    "    choice = str(input('Press c to continue or q to quit'))\n",
    "    if choice == 'c':\n",
    "        stop = True\n",
    "    else:\n",
    "        stop = False\n",
    "print(grocery_history)"
   ]
  }
 ],
 "metadata": {
  "kernelspec": {
   "display_name": "Python 3",
   "language": "python",
   "name": "python3"
  },
  "language_info": {
   "codemirror_mode": {
    "name": "ipython",
    "version": 3
   },
   "file_extension": ".py",
   "mimetype": "text/x-python",
   "name": "python",
   "nbconvert_exporter": "python",
   "pygments_lexer": "ipython3",
   "version": "3.7.4"
  }
 },
 "nbformat": 4,
 "nbformat_minor": 2
}
